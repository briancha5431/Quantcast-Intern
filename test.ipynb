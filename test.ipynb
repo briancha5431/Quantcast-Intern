{
 "cells": [
  {
   "cell_type": "code",
   "execution_count": 28,
   "metadata": {},
   "outputs": [
    {
     "data": {
      "text/plain": [
       "'15'"
      ]
     },
     "execution_count": 28,
     "metadata": {},
     "output_type": "execute_result"
    }
   ],
   "source": [
    "date = \"2022-10-15\"\n",
    "\n",
    "date[8:10]"
   ]
  },
  {
   "cell_type": "code",
   "execution_count": 2,
   "metadata": {},
   "outputs": [],
   "source": [
    "from datetime import date\n",
    "import csv\n"
   ]
  },
  {
   "cell_type": "code",
   "execution_count": 13,
   "metadata": {},
   "outputs": [
    {
     "name": "stdout",
     "output_type": "stream",
     "text": [
      "<class 'str'>\n",
      "<class 'str'>\n",
      "<class 'str'>\n",
      "<class 'str'>\n",
      "<class 'str'>\n",
      "<class 'str'>\n",
      "<class 'str'>\n",
      "<class 'str'>\n",
      "<class 'str'>\n"
     ]
    }
   ],
   "source": [
    "csv_file = \"cookie_log.csv\"\n",
    "date = '2018-12-09'\n",
    "with open(csv_file, 'r') as checker:\n",
    "    csv_reader = csv.reader(checker)\n",
    "\n",
    "    for line in csv_reader:\n",
    "        print(type(line[1][0:10]))\n",
    "    \n"
   ]
  },
  {
   "cell_type": "code",
   "execution_count": 4,
   "metadata": {},
   "outputs": [
    {
     "data": {
      "text/plain": [
       "'0123456789'"
      ]
     },
     "execution_count": 4,
     "metadata": {},
     "output_type": "execute_result"
    }
   ],
   "source": [
    "import string\n",
    "import random\n",
    "string.digits"
   ]
  },
  {
   "cell_type": "code",
   "execution_count": 134,
   "metadata": {},
   "outputs": [
    {
     "data": {
      "text/plain": [
       "'2022-04-04'"
      ]
     },
     "execution_count": 134,
     "metadata": {},
     "output_type": "execute_result"
    }
   ],
   "source": [
    "def random_date_generator():\n",
    "    year = 2022\n",
    "    month_day = [[1, 31], [2, 28], [3, 31], [4, 30], [5, 31],\n",
    "                 [6, 30], [7, 31], [8, 31], [9, 30], [10, 31], [11, 30], [12, 31]]\n",
    "\n",
    "    random_month = random.choice(month_day)[0]\n",
    "    random_day = random.randint(1, random.choice(month_day)[1])\n",
    "\n",
    "    if random_month < 10:\n",
    "        return_month = \"0\" + str(random_month)\n",
    "    else:\n",
    "        return_month = str(random_month)\n",
    "\n",
    "    if random_day < 10:\n",
    "        return_day = \"0\" + str(random_day)\n",
    "    else:\n",
    "        return_day = str(random_day)\n",
    "\n",
    "    return str(year) + \"-\" + return_month + \"-\" + return_day\n",
    "\n",
    "\n",
    "random_date_generator()\n"
   ]
  },
  {
   "cell_type": "code",
   "execution_count": 159,
   "metadata": {},
   "outputs": [
    {
     "data": {
      "text/plain": [
       "'43'"
      ]
     },
     "execution_count": 159,
     "metadata": {},
     "output_type": "execute_result"
    }
   ],
   "source": [
    "def random_hour_generator():\n",
    "    random_hour = random.randint(0, 23)\n",
    "    if random_hour < 10:\n",
    "        return_hour = \"0\" + str(random_hour)\n",
    "    else:\n",
    "        return_hour = str(random_hour)\n",
    "\n",
    "    return return_hour\n",
    "\n",
    "def random_hour_generator():\n",
    "    random_hour = random.randint(0, 59)\n",
    "    if random_hour < 10:\n",
    "        return_hour = \"0\" + str(random_hour)\n",
    "    else:\n",
    "        return_hour = str(random_hour)\n",
    "\n",
    "    return return_hour\n",
    "\n",
    "\n",
    "random_hour_generator()"
   ]
  },
  {
   "cell_type": "markdown",
   "metadata": {},
   "source": [
    "# Quantcast Summer Internship Program Coding Exercise\n",
    "\n",
    "The program in this coding exercise returns the Cookie ID that appears the most often given a date \"-d\".\n",
    "\n",
    "This coding exercise is written in Python. \\\n",
    "Running the program: input below command into terminal.\n",
    "````md\n",
    "python .\\most_active_cookie.py .\\cookie_log.csv -d DATE\n",
    "````\n",
    "Where DATE is in YYYY-MM-DD format (such as 2018-12-09). Do not include quotations around the date.\n",
    "\n",
    "You can also run this code with no date argument as such:\n",
    "````md\n",
    "python .\\most_active_cookie.py .\\cookie_log.csv\n",
    "````\n",
    "This returns the most often appeared Cookie ID regardless of date.\n",
    "\n",
    "I also wrote cookie_log_maker.py to make a random cookie log for testing purposes.\n",
    "\n",
    "I wrote the code such that a user that makes any syntax mistakes will understand what mistake they have made. \n"
   ]
  }
 ],
 "metadata": {
  "kernelspec": {
   "display_name": "Python 3.10.5 64-bit",
   "language": "python",
   "name": "python3"
  },
  "language_info": {
   "codemirror_mode": {
    "name": "ipython",
    "version": 3
   },
   "file_extension": ".py",
   "mimetype": "text/x-python",
   "name": "python",
   "nbconvert_exporter": "python",
   "pygments_lexer": "ipython3",
   "version": "3.10.5"
  },
  "orig_nbformat": 4,
  "vscode": {
   "interpreter": {
    "hash": "51923b56f38a5b3424ee861e1200c08869906ff2215aafed0340f54392de6f99"
   }
  }
 },
 "nbformat": 4,
 "nbformat_minor": 2
}
