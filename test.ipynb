{
 "cells": [
  {
   "cell_type": "code",
   "execution_count": 28,
   "metadata": {},
   "outputs": [
    {
     "data": {
      "text/plain": [
       "'15'"
      ]
     },
     "execution_count": 28,
     "metadata": {},
     "output_type": "execute_result"
    }
   ],
   "source": [
    "date = \"2022-10-15\"\n",
    "\n",
    "date[8:10]"
   ]
  },
  {
   "cell_type": "code",
   "execution_count": 2,
   "metadata": {},
   "outputs": [],
   "source": [
    "from datetime import date\n",
    "import csv\n"
   ]
  },
  {
   "cell_type": "code",
   "execution_count": 13,
   "metadata": {},
   "outputs": [
    {
     "name": "stdout",
     "output_type": "stream",
     "text": [
      "<class 'str'>\n",
      "<class 'str'>\n",
      "<class 'str'>\n",
      "<class 'str'>\n",
      "<class 'str'>\n",
      "<class 'str'>\n",
      "<class 'str'>\n",
      "<class 'str'>\n",
      "<class 'str'>\n"
     ]
    }
   ],
   "source": [
    "csv_file = \"cookie_log.csv\"\n",
    "date = '2018-12-09'\n",
    "with open(csv_file, 'r') as checker:\n",
    "    csv_reader = csv.reader(checker)\n",
    "\n",
    "    for line in csv_reader:\n",
    "        print(type(line[1][0:10]))\n",
    "    \n"
   ]
  },
  {
   "cell_type": "markdown",
   "metadata": {},
   "source": [
    "# Quantcast Summer Internship Program Coding Exercise\n",
    "\n",
    "This coding exercise is written in Python. \\\n",
    "Running the program: input below command into terminal.\n",
    "````md\n",
    "python .\\most_active_cookie.py .\\cookie_log.csv -d DATE\n",
    "````\n",
    "Where DATE is in YYYY-MM-DD format (such as 2018-12-09)"
   ]
  }
 ],
 "metadata": {
  "kernelspec": {
   "display_name": "Python 3.10.5 64-bit",
   "language": "python",
   "name": "python3"
  },
  "language_info": {
   "codemirror_mode": {
    "name": "ipython",
    "version": 3
   },
   "file_extension": ".py",
   "mimetype": "text/x-python",
   "name": "python",
   "nbconvert_exporter": "python",
   "pygments_lexer": "ipython3",
   "version": "3.10.5"
  },
  "orig_nbformat": 4,
  "vscode": {
   "interpreter": {
    "hash": "51923b56f38a5b3424ee861e1200c08869906ff2215aafed0340f54392de6f99"
   }
  }
 },
 "nbformat": 4,
 "nbformat_minor": 2
}
